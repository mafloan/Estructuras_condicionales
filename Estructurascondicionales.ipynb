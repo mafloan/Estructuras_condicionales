{
  "nbformat": 4,
  "nbformat_minor": 0,
  "metadata": {
    "colab": {
      "provenance": [],
      "authorship_tag": "ABX9TyPEDlx6ihw5QgORwM/QhXOe",
      "include_colab_link": true
    },
    "kernelspec": {
      "name": "python3",
      "display_name": "Python 3"
    },
    "language_info": {
      "name": "python"
    }
  },
  "cells": [
    {
      "cell_type": "markdown",
      "metadata": {
        "id": "view-in-github",
        "colab_type": "text"
      },
      "source": [
        "<a href=\"https://colab.research.google.com/github/mafloan/Estructuras_condicionales/blob/main/Estructurascondicionales.ipynb\" target=\"_parent\"><img src=\"https://colab.research.google.com/assets/colab-badge.svg\" alt=\"Open In Colab\"/></a>"
      ]
    },
    {
      "cell_type": "code",
      "execution_count": null,
      "metadata": {
        "colab": {
          "base_uri": "https://localhost:8080/",
          "height": 35
        },
        "id": "RPxXIf6yhSjD",
        "outputId": "4ee32c86-3111-42ff-c8ea-88331b01ec2d"
      },
      "outputs": [
        {
          "output_type": "execute_result",
          "data": {
            "text/plain": [
              "'\\nSi la nota es >=7, el estudante aprueba, sino desaprueba\\n'"
            ],
            "application/vnd.google.colaboratory.intrinsic+json": {
              "type": "string"
            }
          },
          "metadata": {},
          "execution_count": 1
        }
      ],
      "source": [
        " #nota de aprobación entre 7 y 10== nota de aprobación >=7\n",
        "#nota de reprobación menor a 7== nota de reprobación <7\n",
        "\n",
        "\"\"\"\n",
        "Si la nota es >=7, el estudante aprueba, sino desaprueba\n",
        "\"\"\""
      ]
    },
    {
      "cell_type": "code",
      "source": [],
      "metadata": {
        "id": "IZL3Pw4v1QnO"
      },
      "execution_count": null,
      "outputs": []
    },
    {
      "cell_type": "code",
      "source": [
        "if 2<7:\n",
        "  print(\"La condición es verdadera\")\n",
        "else:\n",
        "  print(\"La condición es falsa\")\n",
        "  print(\"Fin de la consulta.\")"
      ],
      "metadata": {
        "colab": {
          "base_uri": "https://localhost:8080/"
        },
        "id": "XXiU6cdeljs2",
        "outputId": "2038134a-c16c-4559-a9d8-eb3ca858b4a1"
      },
      "execution_count": null,
      "outputs": [
        {
          "output_type": "stream",
          "name": "stdout",
          "text": [
            "La condición es verdadera\n"
          ]
        }
      ]
    },
    {
      "cell_type": "code",
      "source": [
        "nota=float (input(\"Ingrese su nota: \"))\n",
        "\n",
        "if nota>=7:\n",
        "    print(\"Aprobado\")\n",
        "else:\n",
        "    print(\"Reprobado\")"
      ],
      "metadata": {
        "colab": {
          "base_uri": "https://localhost:8080/"
        },
        "id": "-bHddqg2l-zx",
        "outputId": "30d4f7b8-68c6-43f9-fbee-bee434329f88"
      },
      "execution_count": null,
      "outputs": [
        {
          "output_type": "stream",
          "name": "stdout",
          "text": [
            "Ingrese su nota: 6\n",
            "Reprobado\n"
          ]
        }
      ]
    },
    {
      "cell_type": "code",
      "source": [
        "nota=float (input(\"Ingrese su nota: \"))\n",
        "\n",
        "if nota>=7:\n",
        "    print(\"Aprobado\")\n",
        "if 7>nota>=5:\n",
        "    print(\"Recuperatorio\")\n",
        "if nota<5:\n",
        "    print(\"Reprobado\")\n"
      ],
      "metadata": {
        "colab": {
          "base_uri": "https://localhost:8080/"
        },
        "id": "C3UgSaeEo8vf",
        "outputId": "041dd399-5998-449b-8f49-de85b636cedb"
      },
      "execution_count": null,
      "outputs": [
        {
          "output_type": "stream",
          "name": "stdout",
          "text": [
            "Ingrese su nota: 3\n",
            "Reprobado\n"
          ]
        }
      ]
    },
    {
      "cell_type": "code",
      "source": [
        "nota=float (input(\"Ingrese su nota: \"))\n",
        "\n",
        "if nota>=7:\n",
        "    print(\"Aprobado\")\n",
        "elif 7>nota>=5:\n",
        "    print(\"Recuperatorio\")\n",
        "else:\n",
        "    print(\"Reprobado\")"
      ],
      "metadata": {
        "colab": {
          "base_uri": "https://localhost:8080/"
        },
        "id": "etnD4wlcqdzH",
        "outputId": "5b8aaa99-b1b3-4293-9c33-a31a4859f921"
      },
      "execution_count": null,
      "outputs": [
        {
          "output_type": "stream",
          "name": "stdout",
          "text": [
            "Ingrese su nota: 4\n",
            "Reprobado\n"
          ]
        }
      ]
    },
    {
      "cell_type": "code",
      "source": [
        "v= True\n",
        "f= False\n",
        "\n",
        "if v and v:\n",
        "  print(\"La condición es verdadera\")\n",
        "else:\n",
        "  print(\"La condición es falsa\")\n"
      ],
      "metadata": {
        "colab": {
          "base_uri": "https://localhost:8080/"
        },
        "id": "eNzxYs89v4X3",
        "outputId": "8c413671-ca84-4a7b-8005-9e884932cfc9"
      },
      "execution_count": null,
      "outputs": [
        {
          "output_type": "stream",
          "name": "stdout",
          "text": [
            "La condición es verdadera\n"
          ]
        }
      ]
    },
    {
      "cell_type": "code",
      "source": [
        "\n"
      ],
      "metadata": {
        "id": "S5BDuHCiwGqd"
      },
      "execution_count": null,
      "outputs": []
    },
    {
      "cell_type": "code",
      "source": [
        "v= True\n",
        "f= False\n",
        "\n",
        "if f or f:\n",
        "  print(\"La condición es verdadera\")\n",
        "else:\n",
        "  print(\"La condición es falsa\")\n"
      ],
      "metadata": {
        "colab": {
          "base_uri": "https://localhost:8080/"
        },
        "outputId": "7f6532e5-a422-4b3a-ad3a-14cd1fc50c4b",
        "id": "7dbsjMHqwOOp"
      },
      "execution_count": null,
      "outputs": [
        {
          "output_type": "stream",
          "name": "stdout",
          "text": [
            "La condición es falsa\n"
          ]
        }
      ]
    },
    {
      "cell_type": "code",
      "source": [
        "v= True\n",
        "f= False\n",
        "\n",
        "if not f:\n",
        "  print(\"La condición es verdadera\")\n",
        "else:\n",
        "  print(\"La condición es falsa\")"
      ],
      "metadata": {
        "colab": {
          "base_uri": "https://localhost:8080/"
        },
        "id": "m8PQg14Ewgku",
        "outputId": "2a3862ef-ba52-4c86-df0b-94557160460d"
      },
      "execution_count": null,
      "outputs": [
        {
          "output_type": "stream",
          "name": "stdout",
          "text": [
            "La condición es verdadera\n"
          ]
        }
      ]
    },
    {
      "cell_type": "markdown",
      "source": [],
      "metadata": {
        "id": "iT-CmR7Fwwqq"
      }
    },
    {
      "cell_type": "code",
      "source": [
        "listas_estudiantes_aprobados= \"Alfonsina, Roberto, Amalia, Enrique, Alma, Juan\""
      ],
      "metadata": {
        "id": "XFj6KTOawqxx"
      },
      "execution_count": null,
      "outputs": []
    },
    {
      "cell_type": "code",
      "source": [
        "nombre_estudiante1=\"Alma\"\n",
        "nombre_estudiante2=\"Esteban\""
      ],
      "metadata": {
        "id": "U1ketqUcyIpX"
      },
      "execution_count": null,
      "outputs": []
    },
    {
      "cell_type": "code",
      "source": [
        "if nombre_estudiante1 in listas_estudiantes_aprobados:\n",
        "  print(\"El estudiante aprobó\")\n",
        "else:\n",
        "  print(\"El estudiante desaprobó\")"
      ],
      "metadata": {
        "colab": {
          "base_uri": "https://localhost:8080/"
        },
        "id": "b7J1Yh5iyldn",
        "outputId": "dc48f16c-502f-4e81-b144-ad4a3e758722"
      },
      "execution_count": null,
      "outputs": [
        {
          "output_type": "stream",
          "name": "stdout",
          "text": [
            "El estudiante aprobó\n"
          ]
        }
      ]
    },
    {
      "cell_type": "code",
      "source": [
        "if nombre_estudiante2 in listas_estudiantes_aprobados:\n",
        "  print(\"El estudiante aprobó\")\n",
        "else:\n",
        "  print(\"El estudiante desaprobó\")"
      ],
      "metadata": {
        "colab": {
          "base_uri": "https://localhost:8080/"
        },
        "id": "-lHIdrswyEKz",
        "outputId": "5c5340b5-80eb-41d7-e99f-aa991481926a"
      },
      "execution_count": null,
      "outputs": [
        {
          "output_type": "stream",
          "name": "stdout",
          "text": [
            "El estudiante desaprobó\n"
          ]
        }
      ]
    },
    {
      "cell_type": "code",
      "source": [],
      "metadata": {
        "id": "M-3HmsKiyGmd"
      },
      "execution_count": null,
      "outputs": []
    },
    {
      "cell_type": "code",
      "source": [
        "# # Escribe un programa que pida a la persona usuaria que proporcione dos  números y muestre el número más grande"
      ],
      "metadata": {
        "id": "sQwTSPj4yHex"
      },
      "execution_count": null,
      "outputs": []
    },
    {
      "cell_type": "code",
      "source": [
        "primer_numero=int(input(\"Ingrese el primer número: \"))\n",
        "segundo_numero=int(input(\"Ingrese el segundo número: \"))\n",
        "\n",
        "if primer_numero>segundo_numero:\n",
        "  print(f\"El número más grande es {primer_numero}\")\n",
        "elif segundo_numero>primer_numero:\n",
        "  print(f\"El número más grande es {segundo_numero}\")\n",
        "else:\n",
        "  print(\"Los números son iguales\")\n",
        "\n"
      ],
      "metadata": {
        "colab": {
          "base_uri": "https://localhost:8080/"
        },
        "id": "ZM6gksKhykO9",
        "outputId": "914f576a-315a-44c2-cac1-85d40dad58c8"
      },
      "execution_count": null,
      "outputs": [
        {
          "output_type": "stream",
          "name": "stdout",
          "text": [
            "Ingrese el primer número: 10\n",
            "Ingrese el segundo número: 20\n",
            "El número más grande es 20\n"
          ]
        }
      ]
    },
    {
      "cell_type": "code",
      "source": [],
      "metadata": {
        "id": "dS281f4zyt-_"
      },
      "execution_count": null,
      "outputs": []
    },
    {
      "cell_type": "code",
      "source": [
        "##- Escribe un programa que solicite el porcentaje de crecimiento de producción de una empresa e informe si hubo un crecimiento (porcentaje positivo) o una disminución (porcentaje negativo)."
      ],
      "metadata": {
        "id": "Kw23ffbE0aTJ"
      },
      "execution_count": null,
      "outputs": []
    },
    {
      "cell_type": "code",
      "source": [
        "# Recolectamos el porcentaje\n",
        "variación = float(input('Ingrese el porcentaje de crecimiento: '))\n",
        "# Verificamos si el valor es positivo o negativo con una comparación para ver si el número\n",
        "# es mayor o menor que 0\n",
        "if variación > 0:\n",
        "    print(f'Hubo un crecimiento del {variación}%')\n",
        "elif variación < 0:\n",
        "    print(f'Hubo un decrecimiento del {variación}%')\n",
        "else:\n",
        "    print('No hubo crecimiento ni decrecimiento.')\n",
        "\n",
        "\n",
        "\n"
      ],
      "metadata": {
        "id": "S4nLKCnW1UTB",
        "colab": {
          "base_uri": "https://localhost:8080/"
        },
        "outputId": "57fe5ff6-5cf1-4e82-fe52-35c40a5e612f"
      },
      "execution_count": null,
      "outputs": [
        {
          "output_type": "stream",
          "name": "stdout",
          "text": [
            "Ingrese el porcentaje de crecimiento: 12\n",
            "Hubo un crecimiento del 12.0%\n"
          ]
        }
      ]
    },
    {
      "cell_type": "code",
      "source": [
        "##- Escribe un programa que determine si una letra proporcionada por la persona usuaria es una vocal o una consonante.\n",
        "\n",
        "listas_vocales= \"a,e,i,o,u\"\n",
        "\n",
        "letra=input(\"Ingrese una letra: \").lower()\n",
        "\n",
        "if letra in listas_vocales:\n",
        "  print(\"Es una vocal\")\n",
        "else:\n",
        "  print(\"Es una consonante\")"
      ],
      "metadata": {
        "colab": {
          "base_uri": "https://localhost:8080/"
        },
        "id": "C0ty7HCz3YR6",
        "outputId": "ead580fd-6820-4803-b7f0-7b84c5e88f58"
      },
      "execution_count": null,
      "outputs": [
        {
          "output_type": "stream",
          "name": "stdout",
          "text": [
            "Ingrese una letra: A\n",
            "Es una vocal\n"
          ]
        }
      ]
    },
    {
      "cell_type": "code",
      "source": [
        "## Escribe un programa que lea valores promedio de precios de un modelo de automóvil durante 3 años consecutivos y muestre el valor más alto y más bajo entre esos tres años.\n",
        "\n",
        "# Solicitar los precios de los automóviles durante tres años\n",
        "precio_2023 = float(input(\"Ingrese el precio del automóvil en 2023: \"))\n",
        "precio_2024 = float(input(\"Ingrese el precio del automóvil en 2024: \"))\n",
        "precio_2025 = float(input(\"Ingrese el precio del automóvil en 2025: \"))\n",
        "\n",
        "# Cálculo del promedio de precios\n",
        "promedio_precios = (precio_2023 + precio_2024 + precio_2025) / 3\n",
        "print(f\"El promedio de precio de los últimos tres años es {promedio_precios:.2f}\")\n",
        "\n",
        "# Encontrar el precio más alto y más bajo usando max() y min()\n",
        "precio_maximo = max(precio_2023, precio_2024, precio_2025)\n",
        "precio_minimo = min(precio_2023, precio_2024, precio_2025)\n",
        "\n",
        "# Mostrar el precio más alto\n",
        "if precio_maximo == precio_2023:\n",
        "    print(f\"El precio más alto fue en 2023 con un valor de {precio_2023:.2f}\")\n",
        "elif precio_maximo == precio_2024:\n",
        "    print(f\"El precio más alto fue en 2024 con un valor de {precio_2024:.2f}\")\n",
        "else:\n",
        "    print(f\"El precio más alto fue en 2025 con un valor de {precio_2025:.2f}\")\n",
        "\n",
        "# Mostrar el precio más bajo\n",
        "if precio_minimo == precio_2023:\n",
        "    print(f\"El precio más bajo fue en 2023 con un valor de {precio_2023:.2f}\")\n",
        "elif precio_minimo == precio_2024:\n",
        "    print(f\"El precio más bajo fue en 2024 con un valor de {precio_2024:.2f}\")\n",
        "else:\n",
        "    print(f\"El precio más bajo fue en 2025 con un valor de {precio_2025:.2f}\")\n"
      ],
      "metadata": {
        "id": "ZB8I5qCp4Aqe",
        "colab": {
          "base_uri": "https://localhost:8080/"
        },
        "outputId": "63dc81b4-8842-421d-fcc5-0deb1d667791"
      },
      "execution_count": null,
      "outputs": [
        {
          "output_type": "stream",
          "name": "stdout",
          "text": [
            "Ingrese el precio del automóvil en 2023: 40000\n",
            "Ingrese el precio del automóvil en 2024: 50000\n",
            "Ingrese el precio del automóvil en 2025: 45000\n",
            "El promedio de precio de los últimos tres años es 45000.00\n",
            "El precio más alto fue en 2024 con un valor de 50000.00\n",
            "El precio más bajo fue en 2023 con un valor de 40000.00\n"
          ]
        }
      ]
    },
    {
      "cell_type": "code",
      "source": [
        "##  Escribe un programa que pregunte sobre el precio de tres producto\n",
        "## e indique cuál es el producto más barato para comprar.\n",
        "\n",
        "##Vamos a usar el ejemplo con jabones para lavar la ropa\n",
        "\n",
        "# Pedir los precios y convertirlos a número\n",
        "jabon1 = float(input(\"Ingrese el precio del jabón Ariel: \"))\n",
        "jabon2 = float(input(\"Ingrese el precio del jabón Querubín: \"))\n",
        "jabon3 = float(input(\"Ingrese el precio del jabón Zorro: \"))\n",
        "\n",
        "# Encontrar el precio más bajo\n",
        "precio_minimo = min(jabon1, jabon2, jabon3)\n",
        "\n",
        "# Identificar cuál es el más barato\n",
        "if precio_minimo == jabon1:\n",
        "    print(f\"El producto más conveniente para comprar es el jabón Ariel a ${jabon1:.2f}\")\n",
        "elif precio_minimo == jabon2:\n",
        "    print(f\"El producto más conveniente para comprar es el jabón Querubín a ${jabon2:.2f}\")\n",
        "else:\n",
        "    print(f\"El producto más conveniente para comprar es el jabón Zorro a ${jabon3:.2f}\")\n"
      ],
      "metadata": {
        "colab": {
          "base_uri": "https://localhost:8080/"
        },
        "id": "tA0yFD7J_23M",
        "outputId": "9809f5ba-3643-4e11-ee77-2cab9da448ed"
      },
      "execution_count": null,
      "outputs": [
        {
          "output_type": "stream",
          "name": "stdout",
          "text": [
            "Ingrese el precio del jabón Ariel: 800.98\n",
            "Ingrese el precio del jabón Querubín: 766.56\n",
            "Ingrese el precio del jabón Zorro: 234.09\n",
            "El producto más conveniente para comprar es el jabón Zorro a $234.09\n"
          ]
        }
      ]
    },
    {
      "cell_type": "code",
      "source": [
        "##6 - Escribe un programa que lea tres números y los muestre en orden descendente.\n",
        "# Leer tres números ingresados por el usuario\n",
        "numero1 = float(input(\"Ingrese el primer número: \"))\n",
        "numero2 = float(input(\"Ingrese el segundo número: \"))\n",
        "numero3 = float(input(\"Ingrese el tercer número: \"))\n",
        "\n",
        "# Crear la lista con los números ingresados\n",
        "lista_numeros = [numero1, numero2, numero3]\n",
        "\n",
        "# Ordenar la lista en orden descendente\n",
        "lista_numeros.sort(reverse=True)\n",
        "\n",
        "# Mostrar la lista ordenada\n",
        "print(\"Números en orden descendente:\", lista_numeros)\n",
        "\n"
      ],
      "metadata": {
        "colab": {
          "base_uri": "https://localhost:8080/"
        },
        "id": "4qWmLVPbIg_V",
        "outputId": "8b09e93f-8006-4044-a3c1-06ed30ad2549"
      },
      "execution_count": null,
      "outputs": [
        {
          "output_type": "stream",
          "name": "stdout",
          "text": [
            "Ingrese el primer número: 1000\n",
            "Ingrese el segundo número: 10\n",
            "Ingrese el tercer número: 100000\n",
            "Números en orden descendente: [100000.0, 1000.0, 10.0]\n"
          ]
        }
      ]
    },
    {
      "cell_type": "code",
      "source": [
        "##7 -Escribe un programa que pregunte en qué turno estudia la persona usuaria (\"mañana\", \"tarde\" o \"noche\") y muestre el mensaje \"¡Buenos Días!\", \"¡Buenas Tardes!\", \"¡Buenas Noches!\" o \"Valor Inválido!\", según el caso.\n",
        "horario_estudiante=input(\"¿En qué turno estudia? \").strip().lower()\n",
        "\n",
        "if horario_estudiante==\"mañana\":\n",
        "  print(\"¡Buenos días!\")\n",
        "elif horario_estudiante==\"tarde\":\n",
        "  print(\"¡Buenas tardes!\")\n",
        "elif horario_estudiante==\"noche\":\n",
        "  print(\"¡Buenas noches!\")\n",
        "else:\n",
        "  print(\"Valor inválido\")\n"
      ],
      "metadata": {
        "colab": {
          "base_uri": "https://localhost:8080/"
        },
        "id": "EKTuqWnwNEBx",
        "outputId": "9302ab55-f041-41f4-880e-3475facf6d6a"
      },
      "execution_count": null,
      "outputs": [
        {
          "output_type": "stream",
          "name": "stdout",
          "text": [
            "¿En qué turno estudia? vespertino\n",
            "Valor inválido\n"
          ]
        }
      ]
    },
    {
      "cell_type": "code",
      "source": [
        "##8 - Escribe un programa que solicite un número entero a la persona usuaria y determine si es par o impar. Pista: Puedes usar el operador módulo (%).\n",
        "\n",
        "numero=int(input(\"Digite un número: \"))\n",
        "\n",
        "if numero % 2 == 0:\n",
        "  print(\"Es un número par\")\n",
        "\n",
        "else:\n",
        "  print(\"Es un número impar\")\n"
      ],
      "metadata": {
        "colab": {
          "base_uri": "https://localhost:8080/"
        },
        "id": "j-W88MytOlNV",
        "outputId": "be93dcf4-d337-48b4-c5e0-8d077e7522ae"
      },
      "execution_count": null,
      "outputs": [
        {
          "output_type": "stream",
          "name": "stdout",
          "text": [
            "Digite un número: 8990\n",
            "Es un número par\n"
          ]
        }
      ]
    },
    {
      "cell_type": "code",
      "source": [
        "## 9 - Escribe un programa que pida un número a la persona usuaria y le informe si es entero o decimal.\n",
        "numero_usuario=input(\"Digite un número\")\n",
        "\n",
        "if \".\" in numero_usuario:\n",
        "  print(\"Es un número decimal\")\n",
        "else:\n",
        "  print(\"Es un número entero\")"
      ],
      "metadata": {
        "colab": {
          "base_uri": "https://localhost:8080/"
        },
        "id": "6piLVqTLP00_",
        "outputId": "7b0e086a-e74a-42c1-ba66-2e019dc884a6"
      },
      "execution_count": null,
      "outputs": [
        {
          "output_type": "stream",
          "name": "stdout",
          "text": [
            "Digite un número78.32\n",
            "Es un número decimal\n"
          ]
        }
      ]
    },
    {
      "cell_type": "code",
      "source": [
        "##10 - Un programa debe ser escrito para leer dos números\n",
        "##y luego preguntar a la persona usuaria qué operación desea realizar.\n",
        "## El resultado de la operación debe incluir información sobre el número,\n",
        " ## si es par o impar, positivo o negativo, e entero o decimal.\n",
        "# Pedir números\n",
        "numero_1 = float(input(\"Digite el primer número: \"))\n",
        "numero_2 = float(input(\"Digite el segundo número: \"))\n",
        "\n",
        "# Pedir operación\n",
        "operacion_usuario = input(\"¿Qué operación desea realizar? (suma, resta, multiplicacion, division): \").lower()\n",
        "\n",
        "# Inicializar resultado\n",
        "resultado = None\n",
        "\n",
        "# Realizar operación\n",
        "if operacion_usuario == \"suma\":\n",
        "    resultado = numero_1 + numero_2\n",
        "elif operacion_usuario == \"resta\":\n",
        "    resultado = numero_1 - numero_2\n",
        "elif operacion_usuario == \"multiplicacion\":\n",
        "    resultado = numero_1 * numero_2\n",
        "elif operacion_usuario == \"division\":\n",
        "    if numero_2 != 0:\n",
        "        resultado = numero_1 / numero_2\n",
        "    else:\n",
        "        print(\"No se puede dividir por cero.\")\n",
        "else:\n",
        "    print(\"Operación inválida.\")\n",
        "\n",
        "# Si hay un resultado, analizarlo\n",
        "if resultado is not None:\n",
        "    print(f\"El resultado de la {operacion_usuario} es {resultado}\")\n",
        "\n",
        "    # Positivo o negativo\n",
        "    if resultado > 0:\n",
        "        print(\"El resultado es positivo.\")\n",
        "    elif resultado < 0:\n",
        "        print(\"El resultado es negativo.\")\n",
        "    else:\n",
        "        print(\"El resultado es cero.\")\n",
        "\n",
        "    # Entero o decimal\n",
        "    if resultado.is_integer():\n",
        "        print(\"El resultado es un número entero.\")\n",
        "        # Par o impar (solo tiene sentido si es entero)\n",
        "        if int(resultado) % 2 == 0:\n",
        "            print(\"El resultado es par.\")\n",
        "        else:\n",
        "            print(\"El resultado es impar.\")\n",
        "    else:\n",
        "        print(\"El resultado es un número decimal.\")\n",
        "\n",
        "\n",
        "\n"
      ],
      "metadata": {
        "id": "ye4jV6ESSfmw"
      },
      "execution_count": null,
      "outputs": []
    },
    {
      "cell_type": "code",
      "source": [
        "# Pedir lados\n",
        "lado1 = float(input(\"Ingrese el primer lado del triángulo: \"))\n",
        "lado2 = float(input(\"Ingrese el segundo lado del triángulo: \"))\n",
        "lado3 = float(input(\"Ingrese el tercer lado del triángulo: \"))\n",
        "\n",
        "# Verificar si es un triángulo\n",
        "if (lado1 + lado2 > lado3) and (lado1 + lado3 > lado2) and (lado2 + lado3 > lado1):\n",
        "    print(\"Es un triángulo\")\n",
        "\n",
        "    # Determinar el tipo de triángulo\n",
        "    if lado1 == lado2 == lado3:\n",
        "        print(\"El triángulo es equilátero\")\n",
        "    elif lado1 == lado2 or lado1 == lado3 or lado2 == lado3:\n",
        "        print(\"El triángulo es isósceles\")\n",
        "    else:\n",
        "        print(\"El triángulo es escaleno\")\n",
        "\n",
        "else:\n",
        "    print(\"No es un triángulo\")\n",
        "\n",
        "\n"
      ],
      "metadata": {
        "colab": {
          "base_uri": "https://localhost:8080/"
        },
        "id": "yCSY_GAL1Xtz",
        "outputId": "9cbb98dd-27b5-44eb-b3a2-a18edf5b50aa"
      },
      "execution_count": null,
      "outputs": [
        {
          "output_type": "stream",
          "name": "stdout",
          "text": [
            "Ingrese el primer lado del triángulo: 90\n",
            "Ingrese el segundo lado del triángulo: 90\n",
            "Ingrese el tercer lado del triángulo: 90\n",
            "Es un triángulo\n",
            "El triángulo es equilátero\n"
          ]
        }
      ]
    },
    {
      "cell_type": "code",
      "source": [
        "# Solicitar al usuario la cantidad de litros y tipo de combustible\n",
        "litros = float(input(\"Ingrese la cantidad de litros: \"))\n",
        "tipo_combustible = input(\"Ingrese el tipo de combustible (E para Etanol, D para Diesel): \").upper()\n",
        "\n",
        "# Definir precios por litro\n",
        "precio_etanol = 1.70\n",
        "precio_diesel = 2.00\n",
        "\n",
        "# Variables de descuento\n",
        "descuento_etanol = 0\n",
        "descuento_diesel = 0\n",
        "\n",
        "# Verificar el tipo de combustible y aplicar las reglas de descuento\n",
        "if tipo_combustible == 'E':\n",
        "    if litros <= 15:\n",
        "        descuento_etanol = 0.02  # 2% de descuento\n",
        "    else:\n",
        "        descuento_etanol = 0.04  # 4% de descuento\n",
        "    # Calcular el valor a pagar para etanol\n",
        "    descuento = precio_etanol * litros * descuento_etanol\n",
        "    total_pagar = precio_etanol * litros - descuento\n",
        "    print(f\"El valor a pagar por {litros} litros de Etanol es: R$ {total_pagar:.2f}\")\n",
        "\n",
        "elif tipo_combustible == 'D':\n",
        "    if litros <= 15:\n",
        "        descuento_diesel = 0.03  # 3% de descuento\n",
        "    else:\n",
        "        descuento_diesel = 0.05  # 5% de descuento\n",
        "    # Calcular el valor a pagar para diésel\n",
        "    descuento = precio_diesel * litros * descuento_diesel\n",
        "    total_pagar = precio_diesel * litros - descuento\n",
        "    print(f\"El valor a pagar por {litros} litros de Diesel es: R$ {total_pagar:.2f}\")\n",
        "\n",
        "else:\n",
        "    print(\"Tipo de combustible no válido. Por favor ingrese 'E' para Etanol o 'D' para Diesel.\")\n",
        "\n",
        "\n"
      ],
      "metadata": {
        "colab": {
          "base_uri": "https://localhost:8080/"
        },
        "id": "oPyB4EdS6P9E",
        "outputId": "e8049521-4dfb-4aea-efeb-1f6853bf10f4"
      },
      "execution_count": null,
      "outputs": [
        {
          "output_type": "stream",
          "name": "stdout",
          "text": [
            "Ingrese la cantidad de litros: 36\n",
            "Ingrese el tipo de combustible (E para Etanol, D para Diesel): n\n",
            "Tipo de combustible no válido. Por favor ingrese 'E' para Etanol o 'D' para Diesel.\n"
          ]
        }
      ]
    },
    {
      "cell_type": "code",
      "source": [
        "## Ventas bienes raíces\n",
        "\n",
        "ventas_2022 = float(input (\"Ingrese las ventas del año 2022: \"))\n",
        "ventas_2023 = float(input (\"Ingrese las ventas del año 2023: \"))\n",
        "\n",
        "##Definir el porcentaje de diferencia entre las ventas anuales\n",
        "porcentaje_Diferencia_Anual = ((ventas_2023 - ventas_2022) / ventas_2022) * 100\n",
        "\n",
        "\n",
        "if porcentaje_Diferencia_Anual > 20:\n",
        "  print('Hay una importante bonificación para el equipo de ventas.')\n",
        "\n",
        "elif 2 < porcentaje_Diferencia_Anual <= 20:\n",
        "  print('Hay una pequeña bonificación para el equipo de ventas.')\n",
        "\n",
        "elif -10 < porcentaje_Diferencia_Anual <= 2:\n",
        "  print('Planificación de políticas de incentivo a las ventas.')\n",
        "\n",
        "else:\n",
        "    print('Recorte de gastos')\n",
        "\n",
        "\n"
      ],
      "metadata": {
        "colab": {
          "base_uri": "https://localhost:8080/"
        },
        "id": "RpXFzJRVn03h",
        "outputId": "0ba69370-0b6d-4c3c-f5ef-b7a3f9684379"
      },
      "execution_count": null,
      "outputs": [
        {
          "output_type": "stream",
          "name": "stdout",
          "text": [
            "Ingrese las ventas del año 2022: 70\n",
            "Ingrese las ventas del año 2023: 65\n",
            "Planificación de políticas de incentivo a las ventas.\n"
          ]
        }
      ]
    }
  ]
}